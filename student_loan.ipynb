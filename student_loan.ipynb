{
 "cells": [
  {
   "cell_type": "markdown",
   "metadata": {},
   "source": [
    "# Student Loan\n",
    "\n",
    "# Setup\n",
    "\n",
    "Run this cell **once** if you are in Google Colab:"
   ]
  },
  {
   "cell_type": "code",
   "execution_count": null,
   "metadata": {},
   "outputs": [],
   "source": [
    "import sys\n",
    "\n",
    "if \"google.colab\" in sys.modules:\n",
    "    !rm -rf sample_data\n",
    "    !git clone https://github.com/HMellor/personal-finance-uk.git\n",
    "    !mv personal-finance-uk/* .\n",
    "    !rm -r personal-finance-uk\n",
    "\n",
    "    from google.colab import output\n",
    "\n",
    "    output.enable_custom_widget_manager()"
   ]
  },
  {
   "cell_type": "markdown",
   "metadata": {},
   "source": [
    "Then you can install the Python requirements:"
   ]
  },
  {
   "cell_type": "code",
   "execution_count": null,
   "metadata": {},
   "outputs": [],
   "source": [
    "%pip install -q -r requirements.txt"
   ]
  },
  {
   "cell_type": "markdown",
   "metadata": {},
   "source": [
    "## Interactive Figure"
   ]
  },
  {
   "cell_type": "code",
   "execution_count": null,
   "metadata": {},
   "outputs": [],
   "source": [
    "import pandas as pd\n",
    "from utils.loan import simulate_repayment\n",
    "from utils.ui import InteractiveFigure\n",
    "from utils.tax import net_present_value\n",
    "from plotly.graph_objects import FigureWidget\n",
    "import plotly.express as px\n",
    "\n",
    "\n",
    "def plot(\n",
    "    fig: FigureWidget,\n",
    "    data: pd.DataFrame,\n",
    "    inflation_rate: float,\n",
    "    instant_repayment: float,\n",
    "):\n",
    "    \"\"\"\n",
    "    Plots the loan repayment data on the provided FigureWidget.\n",
    "\n",
    "    Parameters:\n",
    "    fig (FigureWidget): The Plotly figure widget to update.\n",
    "    data (pd.DataFrame): The DataFrame containing loan repayment data.\n",
    "    inflation_rate (float): The annual inflation rate (provided by InteractiveFigure.inputs).\n",
    "    instant_repayment (float): The instant repayment amount (provided by provided by InteractiveFigure.inputs).\n",
    "    \"\"\"\n",
    "    # Calculate discount reate and net persent value (NPV)\n",
    "    discount_rate = inflation_rate / 12\n",
    "    loan_npv = net_present_value(data[\"loan active\"], discount_rate=discount_rate)[-1]\n",
    "\n",
    "    # Calculate active monthly and annual repayments\n",
    "    monthly_repayments_active = data[\n",
    "        [\"salary repayment active\", \"extra repayment active\"]\n",
    "    ].sum(\"columns\")\n",
    "    annual_repayments_active = monthly_repayments_active.groupby(data.index.year).sum()\n",
    "    total_repayment_active_npv = (\n",
    "        net_present_value(annual_repayments_active, discount_rate=inflation_rate).sum()\n",
    "        + instant_repayment\n",
    "    )\n",
    "\n",
    "    # Calculate passive monthly and annual repayments\n",
    "    monthly_repayments_passive = data[\n",
    "        [\"salary repayment passive\", \"extra repayment passive\"]\n",
    "    ].sum(\"columns\")\n",
    "    annual_repayments_passive = monthly_repayments_passive.groupby(\n",
    "        data.index.year\n",
    "    ).sum()\n",
    "    total_repayment_passive_npv = net_present_value(\n",
    "        annual_repayments_passive, discount_rate=inflation_rate\n",
    "    ).sum()\n",
    "\n",
    "    # Calculate interest saved\n",
    "    interest_saved = total_repayment_passive_npv - total_repayment_active_npv\n",
    "\n",
    "    # Create the title text\n",
    "    title_text = (\n",
    "        f\"Final balance NPV: £{loan_npv:,.2f}, \"\n",
    "        f\"Repayment months: {data['loan active'].argmin()}, \"\n",
    "        f\"Total paid NPV: £{total_repayment_active_npv:,.2f}, \"\n",
    "        f\"Interest saved: £{interest_saved:,.2f}\"\n",
    "    )\n",
    "\n",
    "    # Prepare data for plotting\n",
    "    data = data.drop([\"gross passive\", \"extra repayment passive\"], axis=\"columns\")\n",
    "    colors = px.colors.qualitative.Plotly\n",
    "    color_discrete_sequence = colors[1:5] + colors[:6]\n",
    "    lines = px.line(\n",
    "        data,\n",
    "        x=data.index,\n",
    "        y=data.columns,\n",
    "        color_discrete_sequence=color_discrete_sequence,\n",
    "    )\n",
    "\n",
    "    # Set line styles\n",
    "    dash = [\"dash\"] * 4 + [\"solid\"] * 6\n",
    "    for line, dash in zip(lines.data, dash):\n",
    "        line.line.dash = dash\n",
    "\n",
    "    # Update the figure with new data\n",
    "    with fig.batch_update():\n",
    "        if not fig.data:\n",
    "            fig.update_yaxes(tickprefix=\"£\", nticks=10, rangemode=\"nonnegative\")\n",
    "            fig.add_traces(\n",
    "                lines.data,\n",
    "                rows=[1, 1, 1, 1, 1, 1, 1, 1, 1, 1],\n",
    "                cols=[1, 1, 2, 2, 1, 1, 1, 2, 2, 2],\n",
    "            )\n",
    "        else:\n",
    "            for old_data, new_data in zip(fig.data, lines.data):\n",
    "                old_data.x = new_data.x\n",
    "                old_data.y = new_data.y\n",
    "        # Update title\n",
    "        fig.update_layout(title_text=title_text, title_x=0.5)\n",
    "\n",
    "\n",
    "# Initialise and display the interactive figure\n",
    "InteractiveFigure(plot=plot, update=simulate_repayment).app"
   ]
  }
 ],
 "metadata": {
  "colab": {
   "provenance": []
  },
  "kernelspec": {
   "display_name": "Python 3",
   "language": "python",
   "name": "python3"
  },
  "language_info": {
   "codemirror_mode": {
    "name": "ipython",
    "version": 3
   },
   "file_extension": ".py",
   "mimetype": "text/x-python",
   "name": "python",
   "nbconvert_exporter": "python",
   "pygments_lexer": "ipython3",
   "version": "3.10.6"
  },
  "vscode": {
   "interpreter": {
    "hash": "82cb1355d9a6e23f44aa5267dbca63fe6ffff3cfdd9d3e7e1e69de948ec4873f"
   }
  }
 },
 "nbformat": 4,
 "nbformat_minor": 0
}
