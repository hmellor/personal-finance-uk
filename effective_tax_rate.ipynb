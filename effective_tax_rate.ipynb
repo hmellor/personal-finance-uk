{
 "cells": [
  {
   "cell_type": "markdown",
   "metadata": {},
   "source": [
    "# Effective Tax Rate\n",
    "\n",
    "# Setup\n",
    "\n",
    "Run this cell **once** if you are in Google Colab:"
   ]
  },
  {
   "cell_type": "code",
   "execution_count": null,
   "metadata": {},
   "outputs": [],
   "source": [
    "import sys\n",
    "\n",
    "if \"google.colab\" in sys.modules:\n",
    "    !rm -rf sample_data\n",
    "    !git clone https://github.com/HMellor/personal-finance-uk.git\n",
    "    !mv personal-finance-uk/* .\n",
    "    !rm -r personal-finance-uk\n",
    "\n",
    "    from google.colab import output\n",
    "\n",
    "    output.enable_custom_widget_manager()"
   ]
  },
  {
   "cell_type": "markdown",
   "metadata": {},
   "source": [
    "Then you can install the Python requirements:"
   ]
  },
  {
   "cell_type": "code",
   "execution_count": null,
   "metadata": {},
   "outputs": [],
   "source": [
    "%pip install -q -r requirements.txt"
   ]
  },
  {
   "cell_type": "markdown",
   "metadata": {},
   "source": [
    "## Interactive Figure"
   ]
  },
  {
   "cell_type": "code",
   "execution_count": null,
   "metadata": {},
   "outputs": [],
   "source": [
    "from utils.ui import InteractiveFigure\n",
    "import numpy as np\n",
    "import pandas as pd\n",
    "from plotly.graph_objects import FigureWidget\n",
    "import plotly.express as px\n",
    "from utils.loan import student_loan_repayment\n",
    "from utils.tax import income_tax, national_insurance\n",
    "\n",
    "\n",
    "def update(plan: str):\n",
    "    data = pd.DataFrame()\n",
    "    gross_income = pd.Series(np.arange(start=0, stop=150000, step=100))\n",
    "    _income_tax = gross_income.apply(income_tax)\n",
    "    _national_insurance = gross_income.apply(national_insurance)\n",
    "    _student_loan = gross_income.apply(student_loan_repayment, plan=plan)\n",
    "\n",
    "    data[\"effective tax\"] = _income_tax + _national_insurance\n",
    "    data[\"effective tax\"][1:] /= gross_income[1:]\n",
    "    data[\"effective tax after loan\"] = _income_tax + _national_insurance + _student_loan\n",
    "    data[\"effective tax after loan\"][1:] /= gross_income[1:]\n",
    "\n",
    "    data[\"net income\"] = gross_income - _income_tax - _national_insurance\n",
    "    data[\"net income after loan\"] = (\n",
    "        gross_income - _income_tax - _national_insurance - _student_loan\n",
    "    )\n",
    "    data.index = gross_income\n",
    "    return data\n",
    "\n",
    "\n",
    "def plot(fig: FigureWidget, data: pd.DataFrame):\n",
    "    # Plot lines\n",
    "    lines = px.line(data, x=data.index, y=data.columns)\n",
    "    with fig.batch_update():\n",
    "        # Add/update data\n",
    "        if not fig.data:\n",
    "            fig.update_layout(\n",
    "                title_text=\"Effective tax rate of all taxes combined\", title_x=0.5\n",
    "            )\n",
    "            fig.update_xaxes(tickprefix=\"£\", nticks=15)\n",
    "            fig.update_yaxes(title=\"Effective tax rate\", tickformat=\".1%\", col=1)\n",
    "            fig.update_yaxes(\n",
    "                title=\"Net income\", tickprefix=\"£\", tickformat=\".3s\", col=2\n",
    "            )\n",
    "            fig.add_traces(lines.data, rows=[1, 1, 1, 1], cols=[1, 1, 2, 2])\n",
    "        else:\n",
    "            for old_data, new_data in zip(fig.data, lines.data):\n",
    "                old_data.x = new_data.x\n",
    "                old_data.y = new_data.y\n",
    "\n",
    "\n",
    "InteractiveFigure(plot=plot, update=update, x_title=\"Gross income\").app"
   ]
  }
 ],
 "metadata": {
  "kernelspec": {
   "display_name": "Python 3",
   "language": "python",
   "name": "python3"
  },
  "language_info": {
   "codemirror_mode": {
    "name": "ipython",
    "version": 3
   },
   "file_extension": ".py",
   "mimetype": "text/x-python",
   "name": "python",
   "nbconvert_exporter": "python",
   "pygments_lexer": "ipython3",
   "version": "3.10.6"
  }
 },
 "nbformat": 4,
 "nbformat_minor": 2
}
